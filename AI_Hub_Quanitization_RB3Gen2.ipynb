{
  "cells": [
    {
      "cell_type": "markdown",
      "metadata": {
        "id": "view-in-github",
        "colab_type": "text"
      },
      "source": [
        "<a href=\"https://colab.research.google.com/github/ramalamadingdong/yolo-rb3gen2-trainer/blob/main/AI_Hub_Quanitization_RB3Gen2.ipynb\" target=\"_parent\"><img src=\"https://colab.research.google.com/assets/colab-badge.svg\" alt=\"Open In Colab\"/></a>"
      ]
    },
    {
      "cell_type": "markdown",
      "metadata": {
        "id": "YCeuW7tV4c-P"
      },
      "source": [
        "# This file should be ran Locally!"
      ]
    },
    {
      "cell_type": "markdown",
      "metadata": {
        "id": "L-D9dgnL4c-Q"
      },
      "source": [
        "## RB3 Gen 2 (Proxy)\n",
        "I recommend the following be run on your personal machine but you can do this on the Colab too however the last step takes a long time to complete."
      ]
    },
    {
      "cell_type": "code",
      "execution_count": null,
      "metadata": {
        "id": "4id9hP_l4c-R"
      },
      "outputs": [],
      "source": [
        "AIHUB_API_KEY = \"YOUR_API_TOKEN\"\n",
        "PATH_TO_WEIGHTS = \"PATH_TO_WEIGHTS\"\n",
        "# This installs Python package\n",
        "!pip install qai-hub-models[yolov8-det-quantized]\n",
        "!pip install fiftyone\n",
        "!pip install ultralytics\n",
        "# sets up AI Hub enviroment\n",
        "!qai-hub configure --api_token AIHUB_API_KEY\n",
        "\n",
        "# Converts the model to be ran on RB3Gen2\n",
        "!python -m qai_hub_models.models.yolov8_det.export --quantize w8a8 --device=\"RB3 Gen 2 (Proxy)\" --ckpt-name PATH_TO_WEIGHTS --device-os linux --target-runtime tflite"
      ]
    },
    {
      "cell_type": "markdown",
      "metadata": {
        "id": "5gIZqY3a4c-R"
      },
      "source": [
        "To retrieve the quanatization parameters from the model the easiest way is the following:"
      ]
    },
    {
      "cell_type": "code",
      "execution_count": null,
      "metadata": {
        "id": "yxO8A8454c-S"
      },
      "outputs": [],
      "source": [
        "import tensorflow as tf\n",
        "\n",
        "# Load the TFLite model\n",
        "interpreter = tf.lite.Interpreter(model_path=\"PATH_TO_FILE_FROM_AIHUB\")\n",
        "interpreter.allocate_tensors()\n",
        "\n",
        "# Get output tensor details\n",
        "output_details = interpreter.get_output_details()\n",
        "\n",
        "q_scales = []\n",
        "q_zero_points = []\n",
        "\n",
        "for output in output_details:\n",
        "    params = output['quantization_parameters']\n",
        "\n",
        "    # Check if the tensor is quantized\n",
        "    if output['quantization_parameters']['quantized_dimension'] == 0:  # Per-tensor quantization\n",
        "        scale = params['scales'][0] if params['scales'].size > 0 else 1.0\n",
        "        zero_point = params['zero_points'][0] if params['zero_points'].size > 0 else 0.0\n",
        "    else:\n",
        "        # Handle per-channel quantization (unlikely for YOLOv8)\n",
        "        scale = 1.0\n",
        "        zero_point = 0.0\n",
        "\n",
        "    q_scales.append(scale)\n",
        "    q_zero_points.append(float(zero_point))\n",
        "\n",
        "# Format the constants\n",
        "print(f'YOLOv8,q-offsets=<{\", \".join(map(str, q_zero_points))}>, q-scales=<{\", \".join(map(str, q_scales))}>')"
      ]
    },
    {
      "cell_type": "markdown",
      "metadata": {
        "id": "BNqKYKPm4c-S"
      },
      "source": [
        "To run on the RB3Gen2 with the NPU all you need is the following command replace the output from the above script with the constants on the cell below"
      ]
    },
    {
      "cell_type": "code",
      "execution_count": null,
      "metadata": {
        "id": "4tV7Xo154c-S"
      },
      "outputs": [],
      "source": [
        "!gst-launch-1.0 -e --gst-debug=2 \\\n",
        "qtiqmmfsrc name=camsrc ! video/x-raw\\(memory:GBM\\),format=NV12,width=1280,height=720,framerate=30/1,compression=ubwc ! queue ! tee name=split \\\n",
        "split. ! queue ! qtivcomposer name=mixer ! queue ! waylandsink fullscreen=true \\\n",
        "split. ! queue ! qtimlvconverter ! queue ! qtimltflite delegate=external external-delegate-path=libQnnTFLiteDelegate.so \\\n",
        "external-delegate-options=\"QNNExternalDelegate,backend_type=htp;\" model=/opt/yolov8_det_quantized.tflite ! queue ! \\\n",
        "qtimlvdetection threshold=50.0 results=10 module=yolov8 labels=/opt/coco_labels.txt constants=\"YOLOv8,q-offsets=<21.0, 0.0, 0.0>,q-scales=<3.093529462814331, 0.00390625, 1.0>;\" ! \\\n",
        "video/x-raw,format=BGRA,width=640,height=360 ! queue ! mixer.\n"
      ]
    }
  ],
  "metadata": {
    "kernelspec": {
      "display_name": "Python 3",
      "language": "python",
      "name": "python3"
    },
    "language_info": {
      "name": "python",
      "version": "3.11.7"
    },
    "colab": {
      "provenance": [],
      "include_colab_link": true
    }
  },
  "nbformat": 4,
  "nbformat_minor": 0
}