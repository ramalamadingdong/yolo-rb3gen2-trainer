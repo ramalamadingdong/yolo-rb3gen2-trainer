{
 "cells": [
  {
   "cell_type": "markdown",
   "metadata": {},
   "source": [
    "# This file should be ran Locally!"
   ]
  },
  {
   "cell_type": "markdown",
   "metadata": {},
   "source": [
    "## RB3 Gen 2 (Proxy)\n",
    "I recommend the following be run on your personal machine but you can do this on the Colab too however the last step takes a long time to complete. "
   ]
  },
  {
   "cell_type": "code",
   "execution_count": null,
   "metadata": {},
   "outputs": [],
   "source": [
    "# This installs Python package\n",
    "!pip install qai-hub-models[yolov8-det-quantized]\n",
    "# sets up AI Hub enviroment \n",
    "!qai-hub configure --api_token <YOUR_API_TOKEN>\n",
    "# Converts the model to be ran on RB3Gen2\n",
    "!python -m qai_hub_models.models.yolov8_det_quantized.export --device=\"RB3 Gen 2 (Proxy)\" --ckpt-name /content/yolo-rb3gen2-trainer/runs/train/exp/weights/best.pt\n"
   ]
  },
  {
   "cell_type": "markdown",
   "metadata": {},
   "source": [
    "To retrieve the quanatization parameters from the model the easiest way is the following:"
   ]
  },
  {
   "cell_type": "code",
   "execution_count": null,
   "metadata": {},
   "outputs": [],
   "source": [
    "import tensorflow as tf\n",
    "\n",
    "# Load the TFLite model\n",
    "interpreter = tf.lite.Interpreter(model_path=\"PATH_TO_FILE_FROM_AIHUB\")\n",
    "interpreter.allocate_tensors()\n",
    "\n",
    "# Get output tensor details\n",
    "output_details = interpreter.get_output_details()\n",
    "\n",
    "q_scales = []\n",
    "q_zero_points = []\n",
    "\n",
    "for output in output_details:\n",
    "    params = output['quantization_parameters']\n",
    "\n",
    "    # Check if the tensor is quantized\n",
    "    if output['quantization_parameters']['quantized_dimension'] == 0:  # Per-tensor quantization\n",
    "        scale = params['scales'][0] if params['scales'].size > 0 else 1.0\n",
    "        zero_point = params['zero_points'][0] if params['zero_points'].size > 0 else 0.0\n",
    "    else:\n",
    "        # Handle per-channel quantization (unlikely for YOLOv8)\n",
    "        scale = 1.0\n",
    "        zero_point = 0.0\n",
    "\n",
    "    q_scales.append(scale)\n",
    "    q_zero_points.append(float(zero_point))\n",
    "\n",
    "# Format the constants\n",
    "print(f'YOLOv8,q-offsets=<{\", \".join(map(str, q_zero_points))}>, q-scales=<{\", \".join(map(str, q_scales))}>')"
   ]
  },
  {
   "cell_type": "markdown",
   "metadata": {},
   "source": [
    "To run on the RB3Gen2 with the NPU all you need is the following command replace the output from the above script with the constants on the cell below"
   ]
  },
  {
   "cell_type": "code",
   "execution_count": null,
   "metadata": {},
   "outputs": [],
   "source": [
    "!gst-launch-1.0 -e --gst-debug=2 \\\n",
    "qtiqmmfsrc name=camsrc ! video/x-raw\\(memory:GBM\\),format=NV12,width=1280,height=720,framerate=30/1,compression=ubwc ! queue ! tee name=split \\\n",
    "split. ! queue ! qtivcomposer name=mixer ! queue ! waylandsink fullscreen=true \\\n",
    "split. ! queue ! qtimlvconverter ! queue ! qtimltflite delegate=external external-delegate-path=libQnnTFLiteDelegate.so \\\n",
    "external-delegate-options=\"QNNExternalDelegate,backend_type=htp;\" model=/opt/yolov8_det_quantized.tflite ! queue ! \\\n",
    "qtimlvdetection threshold=50.0 results=10 module=yolov8 labels=/opt/coco_labels.txt constants=\"YOLOv8,q-offsets=<21.0, 0.0, 0.0>,q-scales=<3.093529462814331, 0.00390625, 1.0>;\" ! \\\n",
    "video/x-raw,format=BGRA,width=640,height=360 ! queue ! mixer.\n"
   ]
  }
 ],
 "metadata": {
  "kernelspec": {
   "display_name": "Python 3",
   "language": "python",
   "name": "python3"
  },
  "language_info": {
   "name": "python",
   "version": "3.11.7"
  }
 },
 "nbformat": 4,
 "nbformat_minor": 2
}
